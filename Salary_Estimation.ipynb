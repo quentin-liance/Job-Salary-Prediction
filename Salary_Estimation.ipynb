{
 "cells": [
  {
   "cell_type": "markdown",
   "metadata": {},
   "source": [
    "# Prediction du salaire basés sur les offres d'emplois"
   ]
  },
  {
   "cell_type": "markdown",
   "metadata": {},
   "source": [
    "Les données proviennent d'une ancienne compétition postée par Adzuna afin de prédire des salaires pour des jobs en Grande-Bretagne en se basant sur quelques attributs. La base de données contient un grand nombre de lignes représentant des offres d'emplois individuelles, ainsi qu'une série de champs relatifs à chaque offre."
   ]
  },
  {
   "cell_type": "code",
   "execution_count": 1,
   "metadata": {},
   "outputs": [
    {
     "name": "stderr",
     "output_type": "stream",
     "text": [
      "/home/quentin/anaconda3/lib/python3.7/site-packages/statsmodels/tools/_testing.py:19: FutureWarning: pandas.util.testing is deprecated. Use the functions in the public API at pandas.testing instead.\n",
      "  import pandas.util.testing as tm\n"
     ]
    }
   ],
   "source": [
    "import pandas as pd\n",
    "import numpy as np\n",
    "import matplotlib.pyplot as plt\n",
    "import seaborn as sns\n",
    "sns.set_style(\"darkgrid\")\n",
    "import spacy\n",
    "import nltk\n",
    "import warnings\n",
    "warnings.filterwarnings(\"ignore\")\n",
    "import pandas.util.testing as tm"
   ]
  },
  {
   "cell_type": "markdown",
   "metadata": {},
   "source": [
    "# Chargement des données"
   ]
  },
  {
   "cell_type": "code",
   "execution_count": 2,
   "metadata": {},
   "outputs": [
    {
     "data": {
      "text/plain": [
       "(244768, 12)"
      ]
     },
     "execution_count": 2,
     "metadata": {},
     "output_type": "execute_result"
    }
   ],
   "source": [
    "df = pd.read_csv('../Dataset_directory/salary_data.csv')\n",
    "df.shape"
   ]
  },
  {
   "cell_type": "markdown",
   "metadata": {},
   "source": [
    "# Examiner la structure des données"
   ]
  },
  {
   "cell_type": "markdown",
   "metadata": {},
   "source": [
    "Examinons les trois premières lignes à l'aider de la méthode `head()` du DataFrame :"
   ]
  },
  {
   "cell_type": "code",
   "execution_count": 3,
   "metadata": {},
   "outputs": [
    {
     "data": {
      "text/html": [
       "<div>\n",
       "<style scoped>\n",
       "    .dataframe tbody tr th:only-of-type {\n",
       "        vertical-align: middle;\n",
       "    }\n",
       "\n",
       "    .dataframe tbody tr th {\n",
       "        vertical-align: top;\n",
       "    }\n",
       "\n",
       "    .dataframe thead th {\n",
       "        text-align: right;\n",
       "    }\n",
       "</style>\n",
       "<table border=\"1\" class=\"dataframe\">\n",
       "  <thead>\n",
       "    <tr style=\"text-align: right;\">\n",
       "      <th></th>\n",
       "      <th>Id</th>\n",
       "      <th>Title</th>\n",
       "      <th>FullDescription</th>\n",
       "      <th>LocationRaw</th>\n",
       "      <th>LocationNormalized</th>\n",
       "      <th>ContractType</th>\n",
       "      <th>ContractTime</th>\n",
       "      <th>Company</th>\n",
       "      <th>Category</th>\n",
       "      <th>SalaryRaw</th>\n",
       "      <th>SalaryNormalized</th>\n",
       "      <th>SourceName</th>\n",
       "    </tr>\n",
       "  </thead>\n",
       "  <tbody>\n",
       "    <tr>\n",
       "      <th>0</th>\n",
       "      <td>12612628</td>\n",
       "      <td>Engineering Systems Analyst</td>\n",
       "      <td>Engineering Systems Analyst Dorking Surrey Sal...</td>\n",
       "      <td>Dorking, Surrey, Surrey</td>\n",
       "      <td>Dorking</td>\n",
       "      <td>NaN</td>\n",
       "      <td>permanent</td>\n",
       "      <td>Gregory Martin International</td>\n",
       "      <td>Engineering Jobs</td>\n",
       "      <td>20000 - 30000/annum 20-30K</td>\n",
       "      <td>25000</td>\n",
       "      <td>cv-library.co.uk</td>\n",
       "    </tr>\n",
       "    <tr>\n",
       "      <th>1</th>\n",
       "      <td>12612830</td>\n",
       "      <td>Stress Engineer Glasgow</td>\n",
       "      <td>Stress Engineer Glasgow Salary **** to **** We...</td>\n",
       "      <td>Glasgow, Scotland, Scotland</td>\n",
       "      <td>Glasgow</td>\n",
       "      <td>NaN</td>\n",
       "      <td>permanent</td>\n",
       "      <td>Gregory Martin International</td>\n",
       "      <td>Engineering Jobs</td>\n",
       "      <td>25000 - 35000/annum 25-35K</td>\n",
       "      <td>30000</td>\n",
       "      <td>cv-library.co.uk</td>\n",
       "    </tr>\n",
       "    <tr>\n",
       "      <th>2</th>\n",
       "      <td>12612844</td>\n",
       "      <td>Modelling and simulation analyst</td>\n",
       "      <td>Mathematical Modeller / Simulation Analyst / O...</td>\n",
       "      <td>Hampshire, South East, South East</td>\n",
       "      <td>Hampshire</td>\n",
       "      <td>NaN</td>\n",
       "      <td>permanent</td>\n",
       "      <td>Gregory Martin International</td>\n",
       "      <td>Engineering Jobs</td>\n",
       "      <td>20000 - 40000/annum 20-40K</td>\n",
       "      <td>30000</td>\n",
       "      <td>cv-library.co.uk</td>\n",
       "    </tr>\n",
       "  </tbody>\n",
       "</table>\n",
       "</div>"
      ],
      "text/plain": [
       "         Id                             Title  \\\n",
       "0  12612628       Engineering Systems Analyst   \n",
       "1  12612830           Stress Engineer Glasgow   \n",
       "2  12612844  Modelling and simulation analyst   \n",
       "\n",
       "                                     FullDescription  \\\n",
       "0  Engineering Systems Analyst Dorking Surrey Sal...   \n",
       "1  Stress Engineer Glasgow Salary **** to **** We...   \n",
       "2  Mathematical Modeller / Simulation Analyst / O...   \n",
       "\n",
       "                         LocationRaw LocationNormalized ContractType  \\\n",
       "0            Dorking, Surrey, Surrey            Dorking          NaN   \n",
       "1        Glasgow, Scotland, Scotland            Glasgow          NaN   \n",
       "2  Hampshire, South East, South East          Hampshire          NaN   \n",
       "\n",
       "  ContractTime                       Company          Category  \\\n",
       "0    permanent  Gregory Martin International  Engineering Jobs   \n",
       "1    permanent  Gregory Martin International  Engineering Jobs   \n",
       "2    permanent  Gregory Martin International  Engineering Jobs   \n",
       "\n",
       "                    SalaryRaw  SalaryNormalized        SourceName  \n",
       "0  20000 - 30000/annum 20-30K             25000  cv-library.co.uk  \n",
       "1  25000 - 35000/annum 25-35K             30000  cv-library.co.uk  \n",
       "2  20000 - 40000/annum 20-40K             30000  cv-library.co.uk  "
      ]
     },
     "execution_count": 3,
     "metadata": {},
     "output_type": "execute_result"
    }
   ],
   "source": [
    "df.head(3)"
   ]
  },
  {
   "cell_type": "markdown",
   "metadata": {},
   "source": [
    "Chaque ligne représente une offre d'emploi. Il y a __12 variables__ : *Id*, *Title*, *FullDescription*, *LocationRaw*, *LocationNormalized*, \n",
    "*ContractType*, *ContractTime*, *Company*, *Category*, *SalaryRaw*, *SalaryNormalized* et *SourceName*."
   ]
  },
  {
   "cell_type": "markdown",
   "metadata": {},
   "source": [
    "Je sais par avance que je ne vais pas exploiter les variables *Id*, *LocationRaw*, et *SalaryRaw*, je les supprime donc du jeu de données :"
   ]
  },
  {
   "cell_type": "code",
   "execution_count": 4,
   "metadata": {},
   "outputs": [],
   "source": [
    "df.drop(['Id','LocationRaw','SalaryRaw'], inplace=True, axis=1)"
   ]
  },
  {
   "cell_type": "markdown",
   "metadata": {},
   "source": [
    "La méthode `info()` permet d'obtenir une description des données, en particulier le nombre total de lignes, le type de chaque variable et le nombre de valeurs non nulles : "
   ]
  },
  {
   "cell_type": "code",
   "execution_count": 5,
   "metadata": {},
   "outputs": [
    {
     "name": "stdout",
     "output_type": "stream",
     "text": [
      "<class 'pandas.core.frame.DataFrame'>\n",
      "RangeIndex: 244768 entries, 0 to 244767\n",
      "Data columns (total 9 columns):\n",
      " #   Column              Non-Null Count   Dtype \n",
      "---  ------              --------------   ----- \n",
      " 0   Title               244767 non-null  object\n",
      " 1   FullDescription     244768 non-null  object\n",
      " 2   LocationNormalized  244768 non-null  object\n",
      " 3   ContractType        65442 non-null   object\n",
      " 4   ContractTime        180863 non-null  object\n",
      " 5   Company             212338 non-null  object\n",
      " 6   Category            244768 non-null  object\n",
      " 7   SalaryNormalized    244768 non-null  int64 \n",
      " 8   SourceName          244767 non-null  object\n",
      "dtypes: int64(1), object(8)\n",
      "memory usage: 16.8+ MB\n"
     ]
    }
   ],
   "source": [
    "df.info()"
   ]
  },
  {
   "cell_type": "markdown",
   "metadata": {},
   "source": [
    "Il est possible de changer le type des variables catégorielles de type `object` en type `category`, ainsi que les variables textuelles de type `object` en type `string` : ces nouveaux formats seront non seulement plus adaptés, mais permettront également d'utiliser moins de mémoire.  "
   ]
  },
  {
   "cell_type": "code",
   "execution_count": 6,
   "metadata": {
    "scrolled": true
   },
   "outputs": [],
   "source": [
    "# Conversion des variables textuelles \n",
    "#df[\"Title\"] = df[\"Title\"].astype(\"string\")\n",
    "#df[\"FullDescription\"] = df[\"FullDescription\"].astype(\"string\")"
   ]
  },
  {
   "cell_type": "code",
   "execution_count": 7,
   "metadata": {},
   "outputs": [
    {
     "name": "stdout",
     "output_type": "stream",
     "text": [
      "<class 'pandas.core.frame.DataFrame'>\n",
      "RangeIndex: 244768 entries, 0 to 244767\n",
      "Data columns (total 9 columns):\n",
      " #   Column              Non-Null Count   Dtype \n",
      "---  ------              --------------   ----- \n",
      " 0   Title               244767 non-null  object\n",
      " 1   FullDescription     244768 non-null  object\n",
      " 2   LocationNormalized  244768 non-null  object\n",
      " 3   ContractType        65442 non-null   object\n",
      " 4   ContractTime        180863 non-null  object\n",
      " 5   Company             212338 non-null  object\n",
      " 6   Category            244768 non-null  object\n",
      " 7   SalaryNormalized    244768 non-null  int64 \n",
      " 8   SourceName          244767 non-null  object\n",
      "dtypes: int64(1), object(8)\n",
      "memory usage: 16.8+ MB\n"
     ]
    }
   ],
   "source": [
    "df.info()"
   ]
  },
  {
   "cell_type": "markdown",
   "metadata": {},
   "source": [
    "Il y a 244 768 lines dans ce tableau. On remarque que la variable `ContractType` ne contient que 65 442 valeurs valides (\"not-null\") :"
   ]
  },
  {
   "cell_type": "code",
   "execution_count": 8,
   "metadata": {},
   "outputs": [
    {
     "name": "stdout",
     "output_type": "stream",
     "text": [
      "Seul 27% des valeurs de la variable ContractType sont valides.\n"
     ]
    }
   ],
   "source": [
    "print(\"Seul {:.0%} des valeurs de la variable ContractType sont valides.\".format(65_442/244_768))"
   ]
  },
  {
   "cell_type": "markdown",
   "metadata": {},
   "source": [
    "Je décide donc de la supprimer afin d'éviter d'introduire trop de bruits dans les données, considérant par ailleurs que la variable `ContractTime` contient suffisamment d'information : "
   ]
  },
  {
   "cell_type": "code",
   "execution_count": 9,
   "metadata": {},
   "outputs": [],
   "source": [
    "df.drop('ContractType', inplace=True, axis=1)"
   ]
  },
  {
   "cell_type": "code",
   "execution_count": 10,
   "metadata": {},
   "outputs": [
    {
     "name": "stdout",
     "output_type": "stream",
     "text": [
      "<class 'pandas.core.frame.DataFrame'>\n",
      "RangeIndex: 244768 entries, 0 to 244767\n",
      "Data columns (total 8 columns):\n",
      " #   Column              Non-Null Count   Dtype \n",
      "---  ------              --------------   ----- \n",
      " 0   Title               244767 non-null  object\n",
      " 1   FullDescription     244768 non-null  object\n",
      " 2   LocationNormalized  244768 non-null  object\n",
      " 3   ContractTime        180863 non-null  object\n",
      " 4   Company             212338 non-null  object\n",
      " 5   Category            244768 non-null  object\n",
      " 6   SalaryNormalized    244768 non-null  int64 \n",
      " 7   SourceName          244767 non-null  object\n",
      "dtypes: int64(1), object(7)\n",
      "memory usage: 14.9+ MB\n"
     ]
    }
   ],
   "source": [
    "df.info()"
   ]
  },
  {
   "cell_type": "code",
   "execution_count": 11,
   "metadata": {},
   "outputs": [],
   "source": [
    "def missing_values_table(df) :\n",
    "    '''\n",
    "        Fonction permettant d'obtenir des informations concernant les valeurs manquantes d'un jeu de données. \n",
    "    '''\n",
    "    mis_val = df.isnull().sum()\n",
    "    mis_val_percent = 100 * df.isnull().sum() / len(df)\n",
    "    mis_val_table = pd.concat([mis_val, mis_val_percent], axis=1)\n",
    "    mis_val_table_ren_columns = mis_val_table.rename(\n",
    "    columns = {0 : 'Missing Values', 1 : '% of Total Values'})\n",
    "    mis_val_table_ren_columns = mis_val_table_ren_columns[\n",
    "    mis_val_table_ren_columns.iloc[:,1] != 0].sort_values('% of Total Values', ascending = False).round(1)\n",
    "        \n",
    "    return mis_val_table_ren_columns"
   ]
  },
  {
   "cell_type": "markdown",
   "metadata": {},
   "source": [
    "Nous pouvons voir qu'il y a des valeurs manquantes dans __les variables catégorielles__ `ContractTime`,`Company` et `SourceName`. Pour les deux premières, comme leur nombre est relativement élevé, nous préfèrerons les considérer comme __une nouvelle catégorie à part entière__. Pour la variable `SourceName`, comme il n'y en a qu'une seule, nous remplacerons cette valeur manquante par la valeur la plus fréquente du jeu d'entraînement avec la classe `SimpleImputer()`."
   ]
  },
  {
   "cell_type": "code",
   "execution_count": 12,
   "metadata": {},
   "outputs": [],
   "source": [
    "for f in [\"ContractTime\",\"Company\"] :\n",
    "    df[f].replace({np.nan:\"Other\"}, inplace = True)"
   ]
  },
  {
   "cell_type": "code",
   "execution_count": 13,
   "metadata": {},
   "outputs": [
    {
     "name": "stdout",
     "output_type": "stream",
     "text": [
      "<class 'pandas.core.frame.DataFrame'>\n",
      "RangeIndex: 244768 entries, 0 to 244767\n",
      "Data columns (total 8 columns):\n",
      " #   Column              Non-Null Count   Dtype \n",
      "---  ------              --------------   ----- \n",
      " 0   Title               244767 non-null  object\n",
      " 1   FullDescription     244768 non-null  object\n",
      " 2   LocationNormalized  244768 non-null  object\n",
      " 3   ContractTime        244768 non-null  object\n",
      " 4   Company             244768 non-null  object\n",
      " 5   Category            244768 non-null  object\n",
      " 6   SalaryNormalized    244768 non-null  int64 \n",
      " 7   SourceName          244767 non-null  object\n",
      "dtypes: int64(1), object(7)\n",
      "memory usage: 14.9+ MB\n"
     ]
    }
   ],
   "source": [
    "df.info()"
   ]
  },
  {
   "cell_type": "code",
   "execution_count": 14,
   "metadata": {},
   "outputs": [
    {
     "name": "stdout",
     "output_type": "stream",
     "text": [
      "<class 'pandas.core.frame.DataFrame'>\n",
      "RangeIndex: 244768 entries, 0 to 244767\n",
      "Data columns (total 8 columns):\n",
      " #   Column              Non-Null Count   Dtype \n",
      "---  ------              --------------   ----- \n",
      " 0   Title               244767 non-null  object\n",
      " 1   FullDescription     244768 non-null  object\n",
      " 2   LocationNormalized  244768 non-null  object\n",
      " 3   ContractTime        244768 non-null  object\n",
      " 4   Company             244768 non-null  object\n",
      " 5   Category            244768 non-null  object\n",
      " 6   SalaryNormalized    244768 non-null  int64 \n",
      " 7   SourceName          244767 non-null  object\n",
      "dtypes: int64(1), object(7)\n",
      "memory usage: 14.9+ MB\n"
     ]
    }
   ],
   "source": [
    "df.info()"
   ]
  },
  {
   "cell_type": "markdown",
   "metadata": {},
   "source": [
    "Nous avons donc __7 variables explicatives__ et __1 variable d'intérêt__.\n",
    "Les 7 variables explicatives sont *Title*, *FullDescription*, *LocationNormalized*, *ContractTime*, *Company*, *Category* et *SourceName*. Les deux premières sont __textuelles__, les autres sont __catégorielles__. La variable d'intérêt *SalaryNormalized* est un entier naturel que nous chercherons à prédire."
   ]
  },
  {
   "cell_type": "markdown",
   "metadata": {},
   "source": [
    "Commençons par examiner le nombre de modalités pour chacune des variables catégorielles :"
   ]
  },
  {
   "cell_type": "code",
   "execution_count": 15,
   "metadata": {},
   "outputs": [
    {
     "data": {
      "text/html": [
       "<div>\n",
       "<style scoped>\n",
       "    .dataframe tbody tr th:only-of-type {\n",
       "        vertical-align: middle;\n",
       "    }\n",
       "\n",
       "    .dataframe tbody tr th {\n",
       "        vertical-align: top;\n",
       "    }\n",
       "\n",
       "    .dataframe thead th {\n",
       "        text-align: right;\n",
       "    }\n",
       "</style>\n",
       "<table border=\"1\" class=\"dataframe\">\n",
       "  <thead>\n",
       "    <tr style=\"text-align: right;\">\n",
       "      <th></th>\n",
       "      <th>LocationNormalized</th>\n",
       "      <th>ContractTime</th>\n",
       "      <th>Company</th>\n",
       "      <th>Category</th>\n",
       "      <th>SourceName</th>\n",
       "    </tr>\n",
       "  </thead>\n",
       "  <tbody>\n",
       "    <tr>\n",
       "      <th>0</th>\n",
       "      <td>Dorking</td>\n",
       "      <td>permanent</td>\n",
       "      <td>Gregory Martin International</td>\n",
       "      <td>Engineering Jobs</td>\n",
       "      <td>cv-library.co.uk</td>\n",
       "    </tr>\n",
       "    <tr>\n",
       "      <th>1</th>\n",
       "      <td>Glasgow</td>\n",
       "      <td>permanent</td>\n",
       "      <td>Gregory Martin International</td>\n",
       "      <td>Engineering Jobs</td>\n",
       "      <td>cv-library.co.uk</td>\n",
       "    </tr>\n",
       "    <tr>\n",
       "      <th>2</th>\n",
       "      <td>Hampshire</td>\n",
       "      <td>permanent</td>\n",
       "      <td>Gregory Martin International</td>\n",
       "      <td>Engineering Jobs</td>\n",
       "      <td>cv-library.co.uk</td>\n",
       "    </tr>\n",
       "  </tbody>\n",
       "</table>\n",
       "</div>"
      ],
      "text/plain": [
       "  LocationNormalized ContractTime                       Company  \\\n",
       "0            Dorking    permanent  Gregory Martin International   \n",
       "1            Glasgow    permanent  Gregory Martin International   \n",
       "2          Hampshire    permanent  Gregory Martin International   \n",
       "\n",
       "           Category        SourceName  \n",
       "0  Engineering Jobs  cv-library.co.uk  \n",
       "1  Engineering Jobs  cv-library.co.uk  \n",
       "2  Engineering Jobs  cv-library.co.uk  "
      ]
     },
     "execution_count": 15,
     "metadata": {},
     "output_type": "execute_result"
    }
   ],
   "source": [
    "df[[\"LocationNormalized\",\"ContractTime\",\"Company\",\"Category\",\"SourceName\"]].head(3)"
   ]
  },
  {
   "cell_type": "code",
   "execution_count": 16,
   "metadata": {},
   "outputs": [
    {
     "name": "stdout",
     "output_type": "stream",
     "text": [
      "- LocationNormalized: 2732 catégories différentes.\n",
      "--------------------------------------------------\n",
      "- ContractTime: 3 catégories différentes.\n",
      "--------------------------------------------------\n",
      "- Company: 20813 catégories différentes.\n",
      "--------------------------------------------------\n",
      "- Category: 29 catégories différentes.\n",
      "--------------------------------------------------\n",
      "- SourceName: 167 catégories différentes.\n",
      "--------------------------------------------------\n"
     ]
    }
   ],
   "source": [
    "list_cat_var = [\"LocationNormalized\",\"ContractTime\",\"Company\",\"Category\",\"SourceName\"]\n",
    "for f in list_cat_var :\n",
    "    print(\"- {}: {} catégories différentes.\\n{}\".format(f, df[f].nunique(), \"-\"*50))"
   ]
  },
  {
   "cell_type": "code",
   "execution_count": 17,
   "metadata": {},
   "outputs": [
    {
     "data": {
      "text/plain": [
       "permanent    0.619039\n",
       "Other        0.261084\n",
       "contract     0.119877\n",
       "Name: ContractTime, dtype: float64"
      ]
     },
     "execution_count": 17,
     "metadata": {},
     "output_type": "execute_result"
    }
   ],
   "source": [
    "df[\"ContractTime\"].value_counts(normalize=True, dropna=False)"
   ]
  },
  {
   "cell_type": "markdown",
   "metadata": {},
   "source": [
    "Concernant ces variables catégorielles ayant beaucoup de modalités, il serait intéressant d'en savoir plus sur la __représentatitivé des catégories au sein de la variable.__ Pour cela, je vais créer une fonction `get_cdf()` permettant de visualiser la fonction de répartition empirique associé à cette variable.  "
   ]
  },
  {
   "cell_type": "code",
   "execution_count": 18,
   "metadata": {},
   "outputs": [],
   "source": [
    "def get_cdf(variable):\n",
    "    values = df[variable].value_counts(normalize=True).values\n",
    "    y = np.cumsum(values) ; x = np.arange(0,len(y))\n",
    "    plt.ylabel(\"Fonction de répartion\", fontsize=15) ; plt.xlabel(variable, fontsize=15)\n",
    "    plt.plot(x,y) ; plt.show()\n",
    "    q_25 = np.argmax(y > .25) + 1 ; q_50 = np.argmax(y > 0.50) + 1 ; q_75 = np.argmax(y > .75) + 1\n",
    "    print(\"25%: {}\\n50%: {}\\n75%: {}\".format(q_25,q_50,q_75))"
   ]
  },
  {
   "cell_type": "code",
   "execution_count": 19,
   "metadata": {},
   "outputs": [
    {
     "data": {
      "image/png": "[encoded data removed]",
      "text/plain": [
       "<Figure size 432x288 with 1 Axes>"
      ]
     },
     "metadata": {
      "needs_background": "light"
     },
     "output_type": "display_data"
    },
    {
     "name": "stdout",
     "output_type": "stream",
     "text": [
      "25%: 2\n",
      "50%: 19\n",
      "75%: 103\n"
     ]
    }
   ],
   "source": [
    "get_cdf(\"LocationNormalized\")"
   ]
  },
  {
   "cell_type": "markdown",
   "metadata": {},
   "source": [
    "- Les __2 villes__ présentant le plus d'annonces d'emploi représentent __25% du total des annonces d'emploi.__\n",
    "\n",
    "- Les __19 villes__ présentant le plus d'annonces d'emploi représentent __50% du total des annonces d'emploi.__\n",
    "\n",
    "- Les __103 villes__ présentant le plus d'annonces d'emploi représentent __75% du total des annonces d'emploi.__"
   ]
  },
  {
   "cell_type": "code",
   "execution_count": 20,
   "metadata": {},
   "outputs": [
    {
     "data": {
      "image/png": "[encoded data removed]",
      "text/plain": [
       "<Figure size 432x288 with 1 Axes>"
      ]
     },
     "metadata": {
      "needs_background": "light"
     },
     "output_type": "display_data"
    },
    {
     "name": "stdout",
     "output_type": "stream",
     "text": [
      "25%: 32\n",
      "50%: 479\n",
      "75%: 2338\n"
     ]
    }
   ],
   "source": [
    "get_cdf(\"Company\")"
   ]
  },
  {
   "cell_type": "markdown",
   "metadata": {},
   "source": [
    "- Les __129 entreprises__ présentant le plus d'annonces d'emploi représentent __25% du total des annonces d'emploi.__\n",
    "\n",
    "- Les __759 entreprises__ présentant le plus d'annonces d'emploi représentent __50% du total des annonces d'emploi.__\n",
    "\n",
    "- Les __2849 entreprises__ présentant le plus d'annonces d'emploi représentent __75% du total des annonces d'emploi.__"
   ]
  },
  {
   "cell_type": "code",
   "execution_count": 21,
   "metadata": {},
   "outputs": [
    {
     "data": {
      "image/png": "[encoded data removed]",
      "text/plain": [
       "<Figure size 432x288 with 1 Axes>"
      ]
     },
     "metadata": {
      "needs_background": "light"
     },
     "output_type": "display_data"
    },
    {
     "name": "stdout",
     "output_type": "stream",
     "text": [
      "25%: 2\n",
      "50%: 5\n",
      "75%: 11\n"
     ]
    }
   ],
   "source": [
    "get_cdf(\"Category\")"
   ]
  },
  {
   "cell_type": "markdown",
   "metadata": {},
   "source": [
    "- Les __2 catégories d'emplois__ les plus représentées représentent __25% du total des annonces d'emploi.__\n",
    "\n",
    "- Les __5 catégories d'emplois__ les plus représentées représentent __50% du total des annonces d'emploi.__\n",
    "\n",
    "- Les __11 catégories d'emplois__ les plus représentées représentent __75% du total des annonces d'emploi.__"
   ]
  },
  {
   "cell_type": "code",
   "execution_count": 22,
   "metadata": {},
   "outputs": [
    {
     "data": {
      "image/png": "[encoded data removed]",
      "text/plain": [
       "<Figure size 432x288 with 1 Axes>"
      ]
     },
     "metadata": {
      "needs_background": "light"
     },
     "output_type": "display_data"
    },
    {
     "name": "stdout",
     "output_type": "stream",
     "text": [
      "25%: 2\n",
      "50%: 6\n",
      "75%: 22\n"
     ]
    }
   ],
   "source": [
    "get_cdf(\"SourceName\")"
   ]
  },
  {
   "cell_type": "markdown",
   "metadata": {},
   "source": [
    "- Les __2 sites__ présentant le plus d'annonces d'emploi représentent __25% du total des annonces d'emploi.__\n",
    "\n",
    "- Les __6 sites__ présentant le plus d'annonces d'emploi représentent __50% du total des annonces d'emploi.__\n",
    "\n",
    "- Les __22 sites__ présentant le plus d'annonces d'emploi représentent __75% du total des annonces d'emploi.__"
   ]
  },
  {
   "cell_type": "markdown",
   "metadata": {},
   "source": [
    "Examinons maintenant les __variables textuelles :__ "
   ]
  },
  {
   "cell_type": "code",
   "execution_count": 23,
   "metadata": {},
   "outputs": [
    {
     "data": {
      "text/html": [
       "<div>\n",
       "<style scoped>\n",
       "    .dataframe tbody tr th:only-of-type {\n",
       "        vertical-align: middle;\n",
       "    }\n",
       "\n",
       "    .dataframe tbody tr th {\n",
       "        vertical-align: top;\n",
       "    }\n",
       "\n",
       "    .dataframe thead th {\n",
       "        text-align: right;\n",
       "    }\n",
       "</style>\n",
       "<table border=\"1\" class=\"dataframe\">\n",
       "  <thead>\n",
       "    <tr style=\"text-align: right;\">\n",
       "      <th></th>\n",
       "      <th>Title</th>\n",
       "      <th>FullDescription</th>\n",
       "    </tr>\n",
       "  </thead>\n",
       "  <tbody>\n",
       "    <tr>\n",
       "      <th>0</th>\n",
       "      <td>Engineering Systems Analyst</td>\n",
       "      <td>Engineering Systems Analyst Dorking Surrey Sal...</td>\n",
       "    </tr>\n",
       "    <tr>\n",
       "      <th>1</th>\n",
       "      <td>Stress Engineer Glasgow</td>\n",
       "      <td>Stress Engineer Glasgow Salary **** to **** We...</td>\n",
       "    </tr>\n",
       "    <tr>\n",
       "      <th>2</th>\n",
       "      <td>Modelling and simulation analyst</td>\n",
       "      <td>Mathematical Modeller / Simulation Analyst / O...</td>\n",
       "    </tr>\n",
       "    <tr>\n",
       "      <th>3</th>\n",
       "      <td>Engineering Systems Analyst / Mathematical Mod...</td>\n",
       "      <td>Engineering Systems Analyst / Mathematical Mod...</td>\n",
       "    </tr>\n",
       "    <tr>\n",
       "      <th>4</th>\n",
       "      <td>Pioneer, Miser Engineering Systems Analyst</td>\n",
       "      <td>Pioneer, Miser  Engineering Systems Analyst Do...</td>\n",
       "    </tr>\n",
       "  </tbody>\n",
       "</table>\n",
       "</div>"
      ],
      "text/plain": [
       "                                               Title  \\\n",
       "0                        Engineering Systems Analyst   \n",
       "1                            Stress Engineer Glasgow   \n",
       "2                   Modelling and simulation analyst   \n",
       "3  Engineering Systems Analyst / Mathematical Mod...   \n",
       "4         Pioneer, Miser Engineering Systems Analyst   \n",
       "\n",
       "                                     FullDescription  \n",
       "0  Engineering Systems Analyst Dorking Surrey Sal...  \n",
       "1  Stress Engineer Glasgow Salary **** to **** We...  \n",
       "2  Mathematical Modeller / Simulation Analyst / O...  \n",
       "3  Engineering Systems Analyst / Mathematical Mod...  \n",
       "4  Pioneer, Miser  Engineering Systems Analyst Do...  "
      ]
     },
     "execution_count": 23,
     "metadata": {},
     "output_type": "execute_result"
    }
   ],
   "source": [
    "df[[\"Title\",\"FullDescription\"]].head()"
   ]
  },
  {
   "cell_type": "code",
   "execution_count": 24,
   "metadata": {},
   "outputs": [
    {
     "name": "stdout",
     "output_type": "stream",
     "text": [
      "Title:\n",
      "Quantity Surveyor\n",
      "\n",
      "Full Description:\n",
      "Time 4 Recruitment Solutions… Specialise in supplying permanent and contract labour to the construction, mechanical and electrical, catering and industrial markets. Wanted An experienced Quantity Surveyor or an established contractor within the Civil Engineering and Power Generation sectors. The Company… My client is a World leader in the UK ’s **** billion development of wind farms and has seen significant recent investment in its facilities, people, and research and development. From its manufacturing facility through to its worldclass Energy Service Training Centre and from pioneering technologies to skills development; they are ready for continued growth. The Job… They are looking to recruit an experienced Surveyor to work on 2 Wind Farm projects in the Swansea area of South Wales . You will spend **** days on one project and then 2 days on the other project. You will have experience of similar work or have worked on Civil Engineering projects. This is a mundane number crunching and administration Surveying role as opposed to be dealing with the full Commercial aspects of a busy live site and your determination to be accurate and disciplined (with a strong tolerance of possible boredom) of high importance. Key Accountabilities… Carry out the specified and simplistic Surveying tasks. Measurement of drawings Notifying the Commercial Manger of any delay impact. Recording accurately site info. Update on site operations. To be the ears and eyes on site for the commercial manager who only visits once a week. Numerous basic administration duties. Prepare and monitor “Invoices In” Prepare and monitor “Invoices Out” NOTE. You will not be fully responsible for the full commercial aspect of the project due to the part time presence of the Commercial Manager on site. Direct liaison with, Project Manger and the entire Commercial Team for the benefit of the Project. The person… Post grad experience of 2 years plus. From a Surveying background with Civil knowledge. Knowledge of Wind Farms advantageous Knowledge of local trends in South Wales is also advantageous. Recognised, relevant qualification. Job Details… Type: Temporary Duration4 months plus, possibly up to **** year. Salary: **** to **** per hour dependant upon previous, relevant experience. Location: Swansea This job was originally posted as www.totaljobs.com/JobSeeking/QuantitySurveyor_job****\n",
      "----------------------------------------------------------------------------------------------------\n",
      "Title:\n",
      "Locum Sonographers required from January 2013, Manchester, up to ****/\n",
      "\n",
      "Full Description:\n",
      "Merco Recruitment is currently seeking Locum Sonographers for our client, a private community based healthcare provider. Our client operates community clinics across the UK and is seeking Sonographers in Manchester from January 20****3. •Pay is up to **** per hour, weekly payments •Adhoc locum and fixed term contracts available, starting in the new year and ongoing  there is no minimum commitment required •HCPC registration desirable •At least 1 years recent UK experience is essential We would like to hear from Sonographers competent in any of the following: MSK, Vascular, Abdominal, Trans Vaginal and Obs and Gynae. For further information or an informal chat please call Rina on or email your CV and details to ABOUT US: You receive a better service with Merco. We are recognised as one of the fastest growing medical recruitment agencies in the UK. We have medical, nursing and allied jobs available across the UK with NHS and Independent sector healthcare organisations. We have jobs for: •Hospital Doctors •GPs •Nurse Practitioners •Practice Nurses •RGNs and RMNs •Sonographers and Radiographers You can choose from a broad range of locum, fixed term and permanent jobs in: •NHS & Private Hospitals •General Practice •WiCs, UCCs, OOH •Minor Injuries Units •HM Prisons and IDTS •Wellness Clinics/Scanning Centres You should register with Merco for your next job, locum or permanent, because: •You will be offered work quickly •You get paid well and you get paid weekly •You deal with just 1 person  we're not a call centre •You can register with us in just a few minutes New jobs are loaded daily onto You can also find us on Facebook and Link\n",
      "----------------------------------------------------------------------------------------------------\n",
      "Title:\n",
      "Engineer Specialist ****\n",
      "\n",
      "Full Description:\n",
      "Introduction Automotive OEM seeks ****x Specialist Engineer to work at their site in Gaydon Important The applicant will be required to drive validation manouvers in the whole range of JLR vehicles The Job Automotive OEM seeks Test Engineer Position Description: The applicant will be required to drive validation manouvers in the whole range of JLR vehicles and assess their performance against the requirements of the Manouvers Catalogue and targets applicable to the specific vehicle project. Skills Required: High level test driving skills at and beyond the adhesion limit in a range of high and low mu test environments Ability to precise and repeatably follow the requirements of a driving manouver instruction Ability to run in vehicle data capture software to record driving manouvers and outcomes Skills Preferred: SCS tuning experience would be an advantage Experience Required: High performance test driving in a range of vehicles and environments Education Required: Automotive or mechanical engineering Additional Information: This role is nominally based at Gaydon although a considerable proportion of the test work will be carried out away from base  mainly in mainland Europe (Sweden, Germany, France amp; Spain) Travel expenses will be provided During test trips the working week will typically be **** hour days  pay will be prorata for the hours worked this is a **** hour working week with a **** finish on a Friday To apply for this position, candidates must be eligible to live and work in the UK\n",
      "----------------------------------------------------------------------------------------------------\n"
     ]
    }
   ],
   "source": [
    "np.random.seed(123)\n",
    "for i in np.random.randint(1,54321,3) :\n",
    "    print(\"Title:\\n{}\\n\".format(df.loc[i,\"Title\"]))\n",
    "    print(\"Full Description:\\n{}\".format(df.loc[i,\"FullDescription\"]))\n",
    "    print(\"-\"*100)"
   ]
  },
  {
   "cell_type": "markdown",
   "metadata": {},
   "source": [
    "Examinons notre variable d'intérêt `SalaryNormalized` : "
   ]
  },
  {
   "cell_type": "code",
   "execution_count": 25,
   "metadata": {},
   "outputs": [
    {
     "data": {
      "image/png": "[encoded data removed]",
      "text/plain": [
       "<Figure size 432x288 with 1 Axes>"
      ]
     },
     "metadata": {
      "needs_background": "light"
     },
     "output_type": "display_data"
    },
    {
     "name": "stdout",
     "output_type": "stream",
     "text": [
      "       SalaryNormalized\n",
      "count     244768.000000\n",
      "mean       34122.577576\n",
      "std        17640.543124\n",
      "min         5000.000000\n",
      "25%        21500.000000\n",
      "50%        30000.000000\n",
      "75%        42500.000000\n",
      "max       200000.000000\n"
     ]
    }
   ],
   "source": [
    "plt.hist(df[\"SalaryNormalized\"],bins=25)\n",
    "plt.xlabel(\"SalaryNormalized\",fontsize=15)\n",
    "plt.ylabel(\"Fréquence\",fontsize=15)\n",
    "plt.show()\n",
    "print(df.describe())"
   ]
  },
  {
   "cell_type": "markdown",
   "metadata": {},
   "source": [
    "* Le salaire normalisé moyen est de 34 123 \n",
    "* Le salaire minimum est de 5 000\n",
    "* 25% (75%) des salaires sont inférieurs (supérieurs) à 21 500\n",
    "* 50% des salaires sont inférieurs à 30 000\n",
    "* 75% (25%) des salaires sont inférieurs (supérieurs) à 42 500\n",
    "* Le salaire maximum est de 200 000\n",
    "\n",
    "__N.B__ Les salaires sont sans doute exprimés en livre sterling."
   ]
  },
  {
   "cell_type": "markdown",
   "metadata": {},
   "source": [
    "Examinons la relation entre les variables catégorielles ayant relativement peu de modalités (`Category` avec 29 modalités, `ContractTime` avec 2 modalités) et la variable d'intérêt `SalaryNormalized` :"
   ]
  },
  {
   "cell_type": "code",
   "execution_count": 26,
   "metadata": {},
   "outputs": [
    {
     "data": {
      "text/html": [
       "<div>\n",
       "<style scoped>\n",
       "    .dataframe tbody tr th:only-of-type {\n",
       "        vertical-align: middle;\n",
       "    }\n",
       "\n",
       "    .dataframe tbody tr th {\n",
       "        vertical-align: top;\n",
       "    }\n",
       "\n",
       "    .dataframe thead th {\n",
       "        text-align: right;\n",
       "    }\n",
       "</style>\n",
       "<table border=\"1\" class=\"dataframe\">\n",
       "  <thead>\n",
       "    <tr style=\"text-align: right;\">\n",
       "      <th>ContractTime</th>\n",
       "      <th>Other</th>\n",
       "      <th>contract</th>\n",
       "      <th>permanent</th>\n",
       "    </tr>\n",
       "  </thead>\n",
       "  <tbody>\n",
       "    <tr>\n",
       "      <th>count</th>\n",
       "      <td>63905.000000</td>\n",
       "      <td>29342.000000</td>\n",
       "      <td>151521.000000</td>\n",
       "    </tr>\n",
       "    <tr>\n",
       "      <th>mean</th>\n",
       "      <td>30189.156107</td>\n",
       "      <td>36274.116079</td>\n",
       "      <td>35364.879673</td>\n",
       "    </tr>\n",
       "    <tr>\n",
       "      <th>median</th>\n",
       "      <td>25000.000000</td>\n",
       "      <td>30000.000000</td>\n",
       "      <td>32500.000000</td>\n",
       "    </tr>\n",
       "    <tr>\n",
       "      <th>min</th>\n",
       "      <td>5000.000000</td>\n",
       "      <td>5000.000000</td>\n",
       "      <td>5000.000000</td>\n",
       "    </tr>\n",
       "    <tr>\n",
       "      <th>max</th>\n",
       "      <td>200000.000000</td>\n",
       "      <td>192000.000000</td>\n",
       "      <td>200000.000000</td>\n",
       "    </tr>\n",
       "    <tr>\n",
       "      <th>std</th>\n",
       "      <td>17593.270422</td>\n",
       "      <td>22621.070725</td>\n",
       "      <td>16251.148748</td>\n",
       "    </tr>\n",
       "  </tbody>\n",
       "</table>\n",
       "</div>"
      ],
      "text/plain": [
       "ContractTime          Other       contract      permanent\n",
       "count          63905.000000   29342.000000  151521.000000\n",
       "mean           30189.156107   36274.116079   35364.879673\n",
       "median         25000.000000   30000.000000   32500.000000\n",
       "min             5000.000000    5000.000000    5000.000000\n",
       "max           200000.000000  192000.000000  200000.000000\n",
       "std            17593.270422   22621.070725   16251.148748"
      ]
     },
     "execution_count": 26,
     "metadata": {},
     "output_type": "execute_result"
    }
   ],
   "source": [
    "df.groupby('ContractTime')['SalaryNormalized'].agg(['count','mean','median','min','max','std']).transpose()"
   ]
  },
  {
   "cell_type": "code",
   "execution_count": 27,
   "metadata": {},
   "outputs": [
    {
     "data": {
      "image/png": "[encoded data removed]",
      "text/plain": [
       "<Figure size 432x288 with 1 Axes>"
      ]
     },
     "metadata": {
      "needs_background": "light"
     },
     "output_type": "display_data"
    }
   ],
   "source": [
    "sns.distplot(df[df[\"ContractTime\"] == \"contract\"][\"SalaryNormalized\"], label=\"contract\", kde=False)\n",
    "sns.distplot(df[df[\"ContractTime\"] == \"permanent\"][\"SalaryNormalized\"], label=\"permanent\", kde=False)\n",
    "plt.legend()\n",
    "plt.show()"
   ]
  },
  {
   "cell_type": "markdown",
   "metadata": {},
   "source": [
    "Hormis le fait qu'il y ait __bien plus d'annonces de types permanentes que de types contractuelles__ (151 521 permanents contre 29 342 contractuelles), il n'y a pas de différences significatives entre ces deux distributions."
   ]
  },
  {
   "cell_type": "markdown",
   "metadata": {},
   "source": [
    "Affichons maintenant __le salaire médian par catégorie d'emploi :__"
   ]
  },
  {
   "cell_type": "code",
   "execution_count": 28,
   "metadata": {},
   "outputs": [
    {
     "data": {
      "image/png": "[encoded data removed]",
      "text/plain": [
       "<Figure size 720x576 with 1 Axes>"
      ]
     },
     "metadata": {
      "needs_background": "light"
     },
     "output_type": "display_data"
    }
   ],
   "source": [
    "df.groupby('Category')['SalaryNormalized'].mean().sort_values(ascending=True).plot(\n",
    "kind='barh',figsize=(10,8),title=\"Salaire moyen par catégorie\");"
   ]
  },
  {
   "cell_type": "markdown",
   "metadata": {},
   "source": [
    "Les secteurs de l'énergie, des technologies de l'information, du droit, des finances et du consultanat sont les secteurs proposant, en moyenne, les plus hauts salaires. A l'inverse, les temps partiels, les jobs d'aide à domicile et les travaux de maintenance sont les secteurs qui proposent, en moyenne, les salaires les plus bas."
   ]
  },
  {
   "cell_type": "markdown",
   "metadata": {},
   "source": [
    "# Créer un jeu de test "
   ]
  },
  {
   "cell_type": "markdown",
   "metadata": {},
   "source": [
    "Supposons que __la catégorie d'emploi est une variable importante pour prédire le salaire.__ Je veux m'assurer que le jeu de test est représentatif des différentes catégories d'emplois figurant dans le jeu de données complet."
   ]
  },
  {
   "cell_type": "markdown",
   "metadata": {},
   "source": [
    "Je vais effectuer un échantillonnage stratifié basé sur __les catégories d'emploi__."
   ]
  },
  {
   "cell_type": "code",
   "execution_count": 29,
   "metadata": {},
   "outputs": [],
   "source": [
    "from sklearn.model_selection import StratifiedShuffleSplit\n",
    "split = StratifiedShuffleSplit(n_splits=1, test_size=0.3, random_state=42)\n",
    "\n",
    "for train_index, test_index in split.split(df, df[\"Category\"]) :\n",
    "    strat_train_set = df.loc[train_index]\n",
    "    strat_test_set = df.loc[test_index]"
   ]
  },
  {
   "cell_type": "markdown",
   "metadata": {},
   "source": [
    "Je peux vérifier que les proportions soient identiques dans chacune des strates : "
   ]
  },
  {
   "cell_type": "code",
   "execution_count": 30,
   "metadata": {},
   "outputs": [
    {
     "data": {
      "text/html": [
       "<div>\n",
       "<style scoped>\n",
       "    .dataframe tbody tr th:only-of-type {\n",
       "        vertical-align: middle;\n",
       "    }\n",
       "\n",
       "    .dataframe tbody tr th {\n",
       "        vertical-align: top;\n",
       "    }\n",
       "\n",
       "    .dataframe thead th {\n",
       "        text-align: right;\n",
       "    }\n",
       "</style>\n",
       "<table border=\"1\" class=\"dataframe\">\n",
       "  <thead>\n",
       "    <tr style=\"text-align: right;\">\n",
       "      <th></th>\n",
       "      <th>Total set</th>\n",
       "      <th>Train set</th>\n",
       "      <th>Test set</th>\n",
       "    </tr>\n",
       "  </thead>\n",
       "  <tbody>\n",
       "    <tr>\n",
       "      <th>IT Jobs</th>\n",
       "      <td>0.157222</td>\n",
       "      <td>0.157222</td>\n",
       "      <td>0.157222</td>\n",
       "    </tr>\n",
       "    <tr>\n",
       "      <th>Engineering Jobs</th>\n",
       "      <td>0.102848</td>\n",
       "      <td>0.102850</td>\n",
       "      <td>0.102845</td>\n",
       "    </tr>\n",
       "    <tr>\n",
       "      <th>Accounting &amp; Finance Jobs</th>\n",
       "      <td>0.089252</td>\n",
       "      <td>0.089251</td>\n",
       "      <td>0.089254</td>\n",
       "    </tr>\n",
       "    <tr>\n",
       "      <th>Healthcare &amp; Nursing Jobs</th>\n",
       "      <td>0.086106</td>\n",
       "      <td>0.086105</td>\n",
       "      <td>0.086108</td>\n",
       "    </tr>\n",
       "    <tr>\n",
       "      <th>Sales Jobs</th>\n",
       "      <td>0.070565</td>\n",
       "      <td>0.070563</td>\n",
       "      <td>0.070570</td>\n",
       "    </tr>\n",
       "    <tr>\n",
       "      <th>Other/General Jobs</th>\n",
       "      <td>0.069678</td>\n",
       "      <td>0.069676</td>\n",
       "      <td>0.069684</td>\n",
       "    </tr>\n",
       "    <tr>\n",
       "      <th>Teaching Jobs</th>\n",
       "      <td>0.051628</td>\n",
       "      <td>0.051629</td>\n",
       "      <td>0.051627</td>\n",
       "    </tr>\n",
       "    <tr>\n",
       "      <th>Hospitality &amp; Catering Jobs</th>\n",
       "      <td>0.046375</td>\n",
       "      <td>0.046376</td>\n",
       "      <td>0.046370</td>\n",
       "    </tr>\n",
       "    <tr>\n",
       "      <th>PR, Advertising &amp; Marketing Jobs</th>\n",
       "      <td>0.036173</td>\n",
       "      <td>0.036174</td>\n",
       "      <td>0.036170</td>\n",
       "    </tr>\n",
       "    <tr>\n",
       "      <th>Trade &amp; Construction Jobs</th>\n",
       "      <td>0.036104</td>\n",
       "      <td>0.036104</td>\n",
       "      <td>0.036102</td>\n",
       "    </tr>\n",
       "    <tr>\n",
       "      <th>HR &amp; Recruitment Jobs</th>\n",
       "      <td>0.031511</td>\n",
       "      <td>0.031511</td>\n",
       "      <td>0.031513</td>\n",
       "    </tr>\n",
       "    <tr>\n",
       "      <th>Admin Jobs</th>\n",
       "      <td>0.031107</td>\n",
       "      <td>0.031108</td>\n",
       "      <td>0.031104</td>\n",
       "    </tr>\n",
       "    <tr>\n",
       "      <th>Retail Jobs</th>\n",
       "      <td>0.026899</td>\n",
       "      <td>0.026900</td>\n",
       "      <td>0.026896</td>\n",
       "    </tr>\n",
       "    <tr>\n",
       "      <th>Customer Services Jobs</th>\n",
       "      <td>0.024770</td>\n",
       "      <td>0.024770</td>\n",
       "      <td>0.024772</td>\n",
       "    </tr>\n",
       "    <tr>\n",
       "      <th>Legal Jobs</th>\n",
       "      <td>0.016093</td>\n",
       "      <td>0.016091</td>\n",
       "      <td>0.016097</td>\n",
       "    </tr>\n",
       "    <tr>\n",
       "      <th>Manufacturing Jobs</th>\n",
       "      <td>0.015382</td>\n",
       "      <td>0.015379</td>\n",
       "      <td>0.015389</td>\n",
       "    </tr>\n",
       "    <tr>\n",
       "      <th>Logistics &amp; Warehouse Jobs</th>\n",
       "      <td>0.014843</td>\n",
       "      <td>0.014842</td>\n",
       "      <td>0.014844</td>\n",
       "    </tr>\n",
       "    <tr>\n",
       "      <th>Social work Jobs</th>\n",
       "      <td>0.014115</td>\n",
       "      <td>0.014113</td>\n",
       "      <td>0.014122</td>\n",
       "    </tr>\n",
       "    <tr>\n",
       "      <th>Consultancy Jobs</th>\n",
       "      <td>0.013331</td>\n",
       "      <td>0.013330</td>\n",
       "      <td>0.013332</td>\n",
       "    </tr>\n",
       "    <tr>\n",
       "      <th>Travel Jobs</th>\n",
       "      <td>0.012771</td>\n",
       "      <td>0.012770</td>\n",
       "      <td>0.012774</td>\n",
       "    </tr>\n",
       "    <tr>\n",
       "      <th>Scientific &amp; QA Jobs</th>\n",
       "      <td>0.010169</td>\n",
       "      <td>0.010167</td>\n",
       "      <td>0.010173</td>\n",
       "    </tr>\n",
       "    <tr>\n",
       "      <th>Charity &amp; Voluntary Jobs</th>\n",
       "      <td>0.009527</td>\n",
       "      <td>0.009525</td>\n",
       "      <td>0.009533</td>\n",
       "    </tr>\n",
       "    <tr>\n",
       "      <th>Energy, Oil &amp; Gas Jobs</th>\n",
       "      <td>0.009213</td>\n",
       "      <td>0.009216</td>\n",
       "      <td>0.009206</td>\n",
       "    </tr>\n",
       "    <tr>\n",
       "      <th>Creative &amp; Design Jobs</th>\n",
       "      <td>0.006557</td>\n",
       "      <td>0.006560</td>\n",
       "      <td>0.006550</td>\n",
       "    </tr>\n",
       "    <tr>\n",
       "      <th>Maintenance Jobs</th>\n",
       "      <td>0.006300</td>\n",
       "      <td>0.006298</td>\n",
       "      <td>0.006305</td>\n",
       "    </tr>\n",
       "    <tr>\n",
       "      <th>Graduate Jobs</th>\n",
       "      <td>0.005438</td>\n",
       "      <td>0.005440</td>\n",
       "      <td>0.005434</td>\n",
       "    </tr>\n",
       "    <tr>\n",
       "      <th>Property Jobs</th>\n",
       "      <td>0.004241</td>\n",
       "      <td>0.004243</td>\n",
       "      <td>0.004235</td>\n",
       "    </tr>\n",
       "    <tr>\n",
       "      <th>Domestic help &amp; Cleaning Jobs</th>\n",
       "      <td>0.001189</td>\n",
       "      <td>0.001191</td>\n",
       "      <td>0.001185</td>\n",
       "    </tr>\n",
       "    <tr>\n",
       "      <th>Part time Jobs</th>\n",
       "      <td>0.000592</td>\n",
       "      <td>0.000595</td>\n",
       "      <td>0.000586</td>\n",
       "    </tr>\n",
       "  </tbody>\n",
       "</table>\n",
       "</div>"
      ],
      "text/plain": [
       "                                  Total set  Train set  Test set\n",
       "IT Jobs                            0.157222   0.157222  0.157222\n",
       "Engineering Jobs                   0.102848   0.102850  0.102845\n",
       "Accounting & Finance Jobs          0.089252   0.089251  0.089254\n",
       "Healthcare & Nursing Jobs          0.086106   0.086105  0.086108\n",
       "Sales Jobs                         0.070565   0.070563  0.070570\n",
       "Other/General Jobs                 0.069678   0.069676  0.069684\n",
       "Teaching Jobs                      0.051628   0.051629  0.051627\n",
       "Hospitality & Catering Jobs        0.046375   0.046376  0.046370\n",
       "PR, Advertising & Marketing Jobs   0.036173   0.036174  0.036170\n",
       "Trade & Construction Jobs          0.036104   0.036104  0.036102\n",
       "HR & Recruitment Jobs              0.031511   0.031511  0.031513\n",
       "Admin Jobs                         0.031107   0.031108  0.031104\n",
       "Retail Jobs                        0.026899   0.026900  0.026896\n",
       "Customer Services Jobs             0.024770   0.024770  0.024772\n",
       "Legal Jobs                         0.016093   0.016091  0.016097\n",
       "Manufacturing Jobs                 0.015382   0.015379  0.015389\n",
       "Logistics & Warehouse Jobs         0.014843   0.014842  0.014844\n",
       "Social work Jobs                   0.014115   0.014113  0.014122\n",
       "Consultancy Jobs                   0.013331   0.013330  0.013332\n",
       "Travel Jobs                        0.012771   0.012770  0.012774\n",
       "Scientific & QA Jobs               0.010169   0.010167  0.010173\n",
       "Charity & Voluntary Jobs           0.009527   0.009525  0.009533\n",
       "Energy, Oil & Gas Jobs             0.009213   0.009216  0.009206\n",
       "Creative & Design Jobs             0.006557   0.006560  0.006550\n",
       "Maintenance Jobs                   0.006300   0.006298  0.006305\n",
       "Graduate Jobs                      0.005438   0.005440  0.005434\n",
       "Property Jobs                      0.004241   0.004243  0.004235\n",
       "Domestic help & Cleaning Jobs      0.001189   0.001191  0.001185\n",
       "Part time Jobs                     0.000592   0.000595  0.000586"
      ]
     },
     "execution_count": 30,
     "metadata": {},
     "output_type": "execute_result"
    }
   ],
   "source": [
    "pd.DataFrame({'Total set': df[\"Category\"].value_counts(normalize=True),\n",
    "              'Train set': strat_train_set[\"Category\"].value_counts(normalize=True),\n",
    "              'Test set': strat_test_set[\"Category\"].value_counts(normalize=True)})"
   ]
  },
  {
   "cell_type": "code",
   "execution_count": 31,
   "metadata": {},
   "outputs": [
    {
     "data": {
      "text/html": [
       "<div>\n",
       "<style scoped>\n",
       "    .dataframe tbody tr th:only-of-type {\n",
       "        vertical-align: middle;\n",
       "    }\n",
       "\n",
       "    .dataframe tbody tr th {\n",
       "        vertical-align: top;\n",
       "    }\n",
       "\n",
       "    .dataframe thead th {\n",
       "        text-align: right;\n",
       "    }\n",
       "</style>\n",
       "<table border=\"1\" class=\"dataframe\">\n",
       "  <thead>\n",
       "    <tr style=\"text-align: right;\">\n",
       "      <th></th>\n",
       "      <th>Title</th>\n",
       "      <th>FullDescription</th>\n",
       "      <th>LocationNormalized</th>\n",
       "      <th>ContractTime</th>\n",
       "      <th>Company</th>\n",
       "      <th>Category</th>\n",
       "      <th>SalaryNormalized</th>\n",
       "      <th>SourceName</th>\n",
       "    </tr>\n",
       "  </thead>\n",
       "  <tbody>\n",
       "    <tr>\n",
       "      <th>184761</th>\n",
       "      <td>Assistant Managers (ready for the next step)</td>\n",
       "      <td>Assistant Managers (ready for the next step) S...</td>\n",
       "      <td>London</td>\n",
       "      <td>Other</td>\n",
       "      <td>Leisure Jobs</td>\n",
       "      <td>Hospitality &amp; Catering Jobs</td>\n",
       "      <td>25000</td>\n",
       "      <td>jobs.catererandhotelkeeper.com</td>\n",
       "    </tr>\n",
       "    <tr>\n",
       "      <th>88459</th>\n",
       "      <td>Global Development Manager</td>\n",
       "      <td>The Global Development Manager role will lead ...</td>\n",
       "      <td>UK</td>\n",
       "      <td>Other</td>\n",
       "      <td>Springboard  Ltd</td>\n",
       "      <td>Other/General Jobs</td>\n",
       "      <td>62499</td>\n",
       "      <td>theladders.co.uk</td>\n",
       "    </tr>\n",
       "    <tr>\n",
       "      <th>9698</th>\n",
       "      <td>Resourcing Consultant</td>\n",
       "      <td>Based just outside Bath, this job as a Resourc...</td>\n",
       "      <td>Bath</td>\n",
       "      <td>permanent</td>\n",
       "      <td>Other</td>\n",
       "      <td>Manufacturing Jobs</td>\n",
       "      <td>35000</td>\n",
       "      <td>hays.co.uk</td>\n",
       "    </tr>\n",
       "  </tbody>\n",
       "</table>\n",
       "</div>"
      ],
      "text/plain": [
       "                                               Title  \\\n",
       "184761  Assistant Managers (ready for the next step)   \n",
       "88459                     Global Development Manager   \n",
       "9698                           Resourcing Consultant   \n",
       "\n",
       "                                          FullDescription LocationNormalized  \\\n",
       "184761  Assistant Managers (ready for the next step) S...             London   \n",
       "88459   The Global Development Manager role will lead ...                 UK   \n",
       "9698    Based just outside Bath, this job as a Resourc...               Bath   \n",
       "\n",
       "       ContractTime           Company                     Category  \\\n",
       "184761        Other      Leisure Jobs  Hospitality & Catering Jobs   \n",
       "88459         Other  Springboard  Ltd           Other/General Jobs   \n",
       "9698      permanent             Other           Manufacturing Jobs   \n",
       "\n",
       "        SalaryNormalized                      SourceName  \n",
       "184761             25000  jobs.catererandhotelkeeper.com  \n",
       "88459              62499                theladders.co.uk  \n",
       "9698               35000                      hays.co.uk  "
      ]
     },
     "execution_count": 31,
     "metadata": {},
     "output_type": "execute_result"
    }
   ],
   "source": [
    "strat_train_set.head(3)"
   ]
  },
  {
   "cell_type": "code",
   "execution_count": 32,
   "metadata": {},
   "outputs": [],
   "source": [
    "X_train = strat_train_set.drop(\"SalaryNormalized\", axis=1)\n",
    "X_test = strat_test_set.drop(\"SalaryNormalized\", axis=1)\n",
    "y_train = strat_train_set[\"SalaryNormalized\"]\n",
    "y_test = strat_test_set[\"SalaryNormalized\"]"
   ]
  },
  {
   "cell_type": "code",
   "execution_count": 33,
   "metadata": {},
   "outputs": [
    {
     "data": {
      "text/html": [
       "<div>\n",
       "<style scoped>\n",
       "    .dataframe tbody tr th:only-of-type {\n",
       "        vertical-align: middle;\n",
       "    }\n",
       "\n",
       "    .dataframe tbody tr th {\n",
       "        vertical-align: top;\n",
       "    }\n",
       "\n",
       "    .dataframe thead th {\n",
       "        text-align: right;\n",
       "    }\n",
       "</style>\n",
       "<table border=\"1\" class=\"dataframe\">\n",
       "  <thead>\n",
       "    <tr style=\"text-align: right;\">\n",
       "      <th></th>\n",
       "      <th>Title</th>\n",
       "      <th>FullDescription</th>\n",
       "      <th>LocationNormalized</th>\n",
       "      <th>ContractTime</th>\n",
       "      <th>Company</th>\n",
       "      <th>Category</th>\n",
       "      <th>SourceName</th>\n",
       "    </tr>\n",
       "  </thead>\n",
       "  <tbody>\n",
       "    <tr>\n",
       "      <th>184761</th>\n",
       "      <td>Assistant Managers (ready for the next step)</td>\n",
       "      <td>Assistant Managers (ready for the next step) S...</td>\n",
       "      <td>London</td>\n",
       "      <td>Other</td>\n",
       "      <td>Leisure Jobs</td>\n",
       "      <td>Hospitality &amp; Catering Jobs</td>\n",
       "      <td>jobs.catererandhotelkeeper.com</td>\n",
       "    </tr>\n",
       "    <tr>\n",
       "      <th>88459</th>\n",
       "      <td>Global Development Manager</td>\n",
       "      <td>The Global Development Manager role will lead ...</td>\n",
       "      <td>UK</td>\n",
       "      <td>Other</td>\n",
       "      <td>Springboard  Ltd</td>\n",
       "      <td>Other/General Jobs</td>\n",
       "      <td>theladders.co.uk</td>\n",
       "    </tr>\n",
       "    <tr>\n",
       "      <th>9698</th>\n",
       "      <td>Resourcing Consultant</td>\n",
       "      <td>Based just outside Bath, this job as a Resourc...</td>\n",
       "      <td>Bath</td>\n",
       "      <td>permanent</td>\n",
       "      <td>Other</td>\n",
       "      <td>Manufacturing Jobs</td>\n",
       "      <td>hays.co.uk</td>\n",
       "    </tr>\n",
       "  </tbody>\n",
       "</table>\n",
       "</div>"
      ],
      "text/plain": [
       "                                               Title  \\\n",
       "184761  Assistant Managers (ready for the next step)   \n",
       "88459                     Global Development Manager   \n",
       "9698                           Resourcing Consultant   \n",
       "\n",
       "                                          FullDescription LocationNormalized  \\\n",
       "184761  Assistant Managers (ready for the next step) S...             London   \n",
       "88459   The Global Development Manager role will lead ...                 UK   \n",
       "9698    Based just outside Bath, this job as a Resourc...               Bath   \n",
       "\n",
       "       ContractTime           Company                     Category  \\\n",
       "184761        Other      Leisure Jobs  Hospitality & Catering Jobs   \n",
       "88459         Other  Springboard  Ltd           Other/General Jobs   \n",
       "9698      permanent             Other           Manufacturing Jobs   \n",
       "\n",
       "                            SourceName  \n",
       "184761  jobs.catererandhotelkeeper.com  \n",
       "88459                 theladders.co.uk  \n",
       "9698                        hays.co.uk  "
      ]
     },
     "execution_count": 33,
     "metadata": {},
     "output_type": "execute_result"
    }
   ],
   "source": [
    "X_train.head(3)"
   ]
  },
  {
   "cell_type": "markdown",
   "metadata": {},
   "source": [
    "# Encodage en fréquence"
   ]
  },
  {
   "cell_type": "markdown",
   "metadata": {},
   "source": [
    "Cette technique consiste à __transformer les modalités d'une variable qualitative en valeurs comprise entre 0 et 1__ correspondant à leurs __fréquences relatives__. Nous pouvons voir ces fréquences comme étant la probabilité de rencontrer cette modalité dans notre jeu de données.\n",
    "Cela permet par ailleurs d'éviter l'explosion du nombres de variables suite à un one-hot encoding. "
   ]
  },
  {
   "cell_type": "code",
   "execution_count": 34,
   "metadata": {},
   "outputs": [],
   "source": [
    "def get_freq_encoding(dataset, train_file):\n",
    "    \n",
    "    '''\n",
    "       Fonction permettant d'appliquer l'encodage en fréquence sur le jeu d'entraînement.\n",
    "       Les nouvelles modalités calculées sur le jeu d'entraînement seront ensuite appliquées au jeu de test.\n",
    "    '''\n",
    "    \n",
    "    for c in [\"LocationNormalized\",\"ContractTime\",\"Company\",\"Category\",\"SourceName\"] :\n",
    "        data = train_file.groupby([c]).size()/len(train_file)\n",
    "        dataset[c] = dataset[c].map(data)\n",
    "    return dataset"
   ]
  },
  {
   "cell_type": "code",
   "execution_count": 35,
   "metadata": {},
   "outputs": [],
   "source": [
    "X_test = get_freq_encoding(dataset = X_test, train_file = X_train)\n",
    "X_train = get_freq_encoding(dataset = X_train, train_file = X_train)"
   ]
  },
  {
   "cell_type": "code",
   "execution_count": 36,
   "metadata": {},
   "outputs": [
    {
     "data": {
      "text/html": [
       "<div>\n",
       "<style scoped>\n",
       "    .dataframe tbody tr th:only-of-type {\n",
       "        vertical-align: middle;\n",
       "    }\n",
       "\n",
       "    .dataframe tbody tr th {\n",
       "        vertical-align: top;\n",
       "    }\n",
       "\n",
       "    .dataframe thead th {\n",
       "        text-align: right;\n",
       "    }\n",
       "</style>\n",
       "<table border=\"1\" class=\"dataframe\">\n",
       "  <thead>\n",
       "    <tr style=\"text-align: right;\">\n",
       "      <th></th>\n",
       "      <th>Title</th>\n",
       "      <th>FullDescription</th>\n",
       "      <th>LocationNormalized</th>\n",
       "      <th>ContractTime</th>\n",
       "      <th>Company</th>\n",
       "      <th>Category</th>\n",
       "      <th>SourceName</th>\n",
       "    </tr>\n",
       "  </thead>\n",
       "  <tbody>\n",
       "    <tr>\n",
       "      <th>184761</th>\n",
       "      <td>Assistant Managers (ready for the next step)</td>\n",
       "      <td>Assistant Managers (ready for the next step) S...</td>\n",
       "      <td>0.124742</td>\n",
       "      <td>0.261438</td>\n",
       "      <td>0.000391</td>\n",
       "      <td>0.046376</td>\n",
       "      <td>0.014982</td>\n",
       "    </tr>\n",
       "    <tr>\n",
       "      <th>88459</th>\n",
       "      <td>Global Development Manager</td>\n",
       "      <td>The Global Development Manager role will lead ...</td>\n",
       "      <td>0.167471</td>\n",
       "      <td>0.261438</td>\n",
       "      <td>0.000012</td>\n",
       "      <td>0.069676</td>\n",
       "      <td>0.009303</td>\n",
       "    </tr>\n",
       "    <tr>\n",
       "      <th>9698</th>\n",
       "      <td>Resourcing Consultant</td>\n",
       "      <td>Based just outside Bath, this job as a Resourc...</td>\n",
       "      <td>0.001360</td>\n",
       "      <td>0.618337</td>\n",
       "      <td>0.132231</td>\n",
       "      <td>0.015379</td>\n",
       "      <td>0.012980</td>\n",
       "    </tr>\n",
       "  </tbody>\n",
       "</table>\n",
       "</div>"
      ],
      "text/plain": [
       "                                               Title  \\\n",
       "184761  Assistant Managers (ready for the next step)   \n",
       "88459                     Global Development Manager   \n",
       "9698                           Resourcing Consultant   \n",
       "\n",
       "                                          FullDescription  LocationNormalized  \\\n",
       "184761  Assistant Managers (ready for the next step) S...            0.124742   \n",
       "88459   The Global Development Manager role will lead ...            0.167471   \n",
       "9698    Based just outside Bath, this job as a Resourc...            0.001360   \n",
       "\n",
       "        ContractTime   Company  Category  SourceName  \n",
       "184761      0.261438  0.000391  0.046376    0.014982  \n",
       "88459       0.261438  0.000012  0.069676    0.009303  \n",
       "9698        0.618337  0.132231  0.015379    0.012980  "
      ]
     },
     "execution_count": 36,
     "metadata": {},
     "output_type": "execute_result"
    }
   ],
   "source": [
    "X_train.head(3)"
   ]
  },
  {
   "cell_type": "code",
   "execution_count": 37,
   "metadata": {},
   "outputs": [
    {
     "name": "stdout",
     "output_type": "stream",
     "text": [
      "<class 'pandas.core.frame.DataFrame'>\n",
      "Int64Index: 171337 entries, 184761 to 157239\n",
      "Data columns (total 7 columns):\n",
      " #   Column              Non-Null Count   Dtype  \n",
      "---  ------              --------------   -----  \n",
      " 0   Title               171337 non-null  object \n",
      " 1   FullDescription     171337 non-null  object \n",
      " 2   LocationNormalized  171337 non-null  float64\n",
      " 3   ContractTime        171337 non-null  float64\n",
      " 4   Company             171337 non-null  float64\n",
      " 5   Category            171337 non-null  float64\n",
      " 6   SourceName          171336 non-null  float64\n",
      "dtypes: float64(5), object(2)\n",
      "memory usage: 10.5+ MB\n"
     ]
    }
   ],
   "source": [
    "X_train.info()"
   ]
  },
  {
   "cell_type": "markdown",
   "metadata": {},
   "source": [
    "# Traitement des valeurs numériques manquantes"
   ]
  },
  {
   "cell_type": "code",
   "execution_count": 38,
   "metadata": {},
   "outputs": [],
   "source": [
    "X_train_num = X_train.select_dtypes(include=float)\n",
    "X_test_num = X_test.select_dtypes(include=float)\n",
    "\n",
    "from sklearn.impute import SimpleImputer\n",
    "imputer = SimpleImputer(strategy=\"most_frequent\")\n",
    "\n",
    "# Fit sur le jeu d'entraînement \n",
    "imputer.fit(X_train_num)\n",
    "\n",
    "# Transform sur le jeu d'entraînement et sur le jeu de test \n",
    "X_train_num = pd.DataFrame(imputer.transform(X_train_num), columns = X_train_num.columns)\n",
    "X_test_num = pd.DataFrame(imputer.transform(X_test_num), columns = X_test_num.columns)\n",
    "\n",
    "# Réinitialisation de l'index des vecteurs y_train et y_test  \n",
    "y_train = y_train.reset_index(drop=True)\n",
    "y_test = y_test.reset_index(drop=True)"
   ]
  },
  {
   "cell_type": "code",
   "execution_count": 39,
   "metadata": {},
   "outputs": [
    {
     "data": {
      "text/html": [
       "<div>\n",
       "<style scoped>\n",
       "    .dataframe tbody tr th:only-of-type {\n",
       "        vertical-align: middle;\n",
       "    }\n",
       "\n",
       "    .dataframe tbody tr th {\n",
       "        vertical-align: top;\n",
       "    }\n",
       "\n",
       "    .dataframe thead th {\n",
       "        text-align: right;\n",
       "    }\n",
       "</style>\n",
       "<table border=\"1\" class=\"dataframe\">\n",
       "  <thead>\n",
       "    <tr style=\"text-align: right;\">\n",
       "      <th></th>\n",
       "      <th>LocationNormalized</th>\n",
       "      <th>ContractTime</th>\n",
       "      <th>Company</th>\n",
       "      <th>Category</th>\n",
       "      <th>SourceName</th>\n",
       "    </tr>\n",
       "  </thead>\n",
       "  <tbody>\n",
       "    <tr>\n",
       "      <th>0</th>\n",
       "      <td>0.124742</td>\n",
       "      <td>0.261438</td>\n",
       "      <td>0.000391</td>\n",
       "      <td>0.046376</td>\n",
       "      <td>0.014982</td>\n",
       "    </tr>\n",
       "    <tr>\n",
       "      <th>1</th>\n",
       "      <td>0.167471</td>\n",
       "      <td>0.261438</td>\n",
       "      <td>0.000012</td>\n",
       "      <td>0.069676</td>\n",
       "      <td>0.009303</td>\n",
       "    </tr>\n",
       "    <tr>\n",
       "      <th>2</th>\n",
       "      <td>0.001360</td>\n",
       "      <td>0.618337</td>\n",
       "      <td>0.132231</td>\n",
       "      <td>0.015379</td>\n",
       "      <td>0.012980</td>\n",
       "    </tr>\n",
       "  </tbody>\n",
       "</table>\n",
       "</div>"
      ],
      "text/plain": [
       "   LocationNormalized  ContractTime   Company  Category  SourceName\n",
       "0            0.124742      0.261438  0.000391  0.046376    0.014982\n",
       "1            0.167471      0.261438  0.000012  0.069676    0.009303\n",
       "2            0.001360      0.618337  0.132231  0.015379    0.012980"
      ]
     },
     "execution_count": 39,
     "metadata": {},
     "output_type": "execute_result"
    }
   ],
   "source": [
    "X_train_num.head(3)"
   ]
  },
  {
   "cell_type": "markdown",
   "metadata": {},
   "source": [
    "# Variables textuelles"
   ]
  },
  {
   "cell_type": "code",
   "execution_count": 40,
   "metadata": {},
   "outputs": [],
   "source": [
    "X_train_text = X_train[[\"Title\",\"FullDescription\"]]\n",
    "X_test_text = X_test[[\"Title\",\"FullDescription\"]]"
   ]
  },
  {
   "cell_type": "code",
   "execution_count": 41,
   "metadata": {},
   "outputs": [
    {
     "name": "stdout",
     "output_type": "stream",
     "text": [
      "<class 'pandas.core.frame.DataFrame'>\n",
      "Int64Index: 171337 entries, 184761 to 157239\n",
      "Data columns (total 2 columns):\n",
      " #   Column           Non-Null Count   Dtype \n",
      "---  ------           --------------   ----- \n",
      " 0   Title            171337 non-null  object\n",
      " 1   FullDescription  171337 non-null  object\n",
      "dtypes: object(2)\n",
      "memory usage: 3.9+ MB\n"
     ]
    }
   ],
   "source": [
    "X_train_text.info()"
   ]
  },
  {
   "cell_type": "code",
   "execution_count": 42,
   "metadata": {},
   "outputs": [
    {
     "name": "stdout",
     "output_type": "stream",
     "text": [
      "<class 'pandas.core.frame.DataFrame'>\n",
      "Int64Index: 73431 entries, 153021 to 15141\n",
      "Data columns (total 2 columns):\n",
      " #   Column           Non-Null Count  Dtype \n",
      "---  ------           --------------  ----- \n",
      " 0   Title            73430 non-null  object\n",
      " 1   FullDescription  73431 non-null  object\n",
      "dtypes: object(2)\n",
      "memory usage: 1.7+ MB\n"
     ]
    }
   ],
   "source": [
    "X_test_text.info()"
   ]
  },
  {
   "cell_type": "code",
   "execution_count": 43,
   "metadata": {},
   "outputs": [],
   "source": [
    "from sklearn.feature_extraction.text import TfidfVectorizer"
   ]
  },
  {
   "cell_type": "markdown",
   "metadata": {},
   "source": [
    "## Title"
   ]
  },
  {
   "cell_type": "code",
   "execution_count": 44,
   "metadata": {},
   "outputs": [
    {
     "name": "stdout",
     "output_type": "stream",
     "text": [
      "Title_train_tfidf.shape: (171337, 200)\n",
      "\n",
      "Title_train_tfidf 10 first features:\n",
      " ['account', 'account manager', 'accountant', 'accounts', 'administrator', 'advisor', 'agency', 'analyst', 'application', 'architect']\n",
      "\n",
      "Title_test_tfidf.shape: (73431, 200)\n",
      "\n",
      "Title_test_tfidf 10 first features:\n",
      " ['account', 'account manager', 'accountant', 'accounts', 'administrator', 'advisor', 'agency', 'analyst', 'application', 'architect']\n"
     ]
    }
   ],
   "source": [
    "Title_train = X_train_text[\"Title\"].apply(lambda x: np.str_(x))\n",
    "Title_test = X_test_text[\"Title\"].apply(lambda x: np.str_(x))\n",
    "\n",
    "# Train\n",
    "tfidf_vect_train = TfidfVectorizer(max_features=200, stop_words=\"english\", ngram_range=(1,2))\n",
    "\n",
    "Title_train_tfidf = tfidf_vect_train.fit_transform(Title_train)\n",
    "print(\"Title_train_tfidf.shape: {}\\n\".format(Title_train_tfidf.shape))\n",
    "\n",
    "title_names_train = tfidf_vect_train.get_feature_names()\n",
    "print(\"Title_train_tfidf 10 first features:\\n\", title_names_train[:10])\n",
    "\n",
    "# Test\n",
    "tfidf_vect_test = TfidfVectorizer(max_features=200, stop_words=\"english\",\n",
    "                                  ngram_range=(1,2),vocabulary=title_names_train)\n",
    "\n",
    "Title_test_tfidf = tfidf_vect_test.fit_transform(Title_test)\n",
    "print(\"\\nTitle_test_tfidf.shape: {}\\n\".format(Title_test_tfidf.shape))\n",
    "\n",
    "title_names_test = tfidf_vect_test.get_feature_names()\n",
    "print(\"Title_test_tfidf 10 first features:\\n\", title_names_test[:10])\n",
    "\n",
    "# Convert to dataframes\n",
    "\n",
    "title_train = pd.DataFrame(Title_train_tfidf.toarray(), columns=title_names_train)\n",
    "title_test = pd.DataFrame(Title_test_tfidf.toarray(), columns=title_names_test)"
   ]
  },
  {
   "cell_type": "markdown",
   "metadata": {},
   "source": [
    "## Full Description"
   ]
  },
  {
   "cell_type": "code",
   "execution_count": 45,
   "metadata": {},
   "outputs": [
    {
     "name": "stdout",
     "output_type": "stream",
     "text": [
      "\n",
      "Description_train_tfidf.shape: (171337, 200)\n",
      "\n",
      "Description_train_tfidf 10 first features:\n",
      " ['ability', 'able', 'account', 'agency', 'analysis', 'applicants', 'application', 'applications', 'apply', 'area']\n",
      "\n",
      "Description_test_tfidf.shape: (73431, 200)\n",
      "\n",
      "Description_test_tfidf 10 first features:\n",
      " ['ability', 'able', 'account', 'agency', 'analysis', 'applicants', 'application', 'applications', 'apply', 'area']\n"
     ]
    }
   ],
   "source": [
    "Description_train = X_train_text[\"FullDescription\"].apply(lambda x: np.str_(x))\n",
    "Description_test = X_test_text[\"FullDescription\"].apply(lambda x: np.str_(x))\n",
    "\n",
    "###### Train \n",
    "\n",
    "tfidf_vect_train = TfidfVectorizer(max_features=200, stop_words=\"english\", ngram_range=(1,2))\n",
    "\n",
    "Description_train_tfidf = tfidf_vect_train.fit_transform(Description_train)\n",
    "print(\"\\nDescription_train_tfidf.shape: {}\\n\".format(Description_train_tfidf.shape))\n",
    "\n",
    "desc_names_train = tfidf_vect_train.get_feature_names()\n",
    "print(\"Description_train_tfidf 10 first features:\\n\", desc_names_train[:10])\n",
    "\n",
    "####### Test\n",
    "\n",
    "tfidf_vect_test = TfidfVectorizer(max_features=200, stop_words=\"english\",\n",
    "                                  ngram_range=(1,2), vocabulary=desc_names_train)\n",
    "\n",
    "Description_test_tfidf = tfidf_vect_test.fit_transform(Description_test)\n",
    "print(\"\\nDescription_test_tfidf.shape: {}\\n\".format(Description_test_tfidf.shape))\n",
    "\n",
    "desc_names_test = tfidf_vect_test.get_feature_names()\n",
    "print(\"Description_test_tfidf 10 first features:\\n\", desc_names_test[:10])\n",
    "\n",
    "# Convert to dataframes\n",
    "\n",
    "description_train = pd.DataFrame(Description_train_tfidf.toarray(), columns = desc_names_train)\n",
    "description_test = pd.DataFrame(Description_test_tfidf.toarray(), columns = desc_names_test)"
   ]
  },
  {
   "cell_type": "code",
   "execution_count": 46,
   "metadata": {},
   "outputs": [],
   "source": [
    "X_train = pd.concat([X_train_num, description_train, title_train], axis=1)\n",
    "X_test = pd.concat([X_test_num, description_test, title_test], axis=1)"
   ]
  },
  {
   "cell_type": "code",
   "execution_count": 47,
   "metadata": {},
   "outputs": [
    {
     "data": {
      "text/html": [
       "<div>\n",
       "<style scoped>\n",
       "    .dataframe tbody tr th:only-of-type {\n",
       "        vertical-align: middle;\n",
       "    }\n",
       "\n",
       "    .dataframe tbody tr th {\n",
       "        vertical-align: top;\n",
       "    }\n",
       "\n",
       "    .dataframe thead th {\n",
       "        text-align: right;\n",
       "    }\n",
       "</style>\n",
       "<table border=\"1\" class=\"dataframe\">\n",
       "  <thead>\n",
       "    <tr style=\"text-align: right;\">\n",
       "      <th></th>\n",
       "      <th>LocationNormalized</th>\n",
       "      <th>ContractTime</th>\n",
       "      <th>Company</th>\n",
       "      <th>Category</th>\n",
       "      <th>SourceName</th>\n",
       "      <th>ability</th>\n",
       "      <th>able</th>\n",
       "      <th>account</th>\n",
       "      <th>agency</th>\n",
       "      <th>analysis</th>\n",
       "      <th>...</th>\n",
       "      <th>time</th>\n",
       "      <th>trade</th>\n",
       "      <th>trainee</th>\n",
       "      <th>travel</th>\n",
       "      <th>uk</th>\n",
       "      <th>web</th>\n",
       "      <th>web developer</th>\n",
       "      <th>west</th>\n",
       "      <th>worker</th>\n",
       "      <th>year</th>\n",
       "    </tr>\n",
       "  </thead>\n",
       "  <tbody>\n",
       "    <tr>\n",
       "      <th>0</th>\n",
       "      <td>0.124742</td>\n",
       "      <td>0.261438</td>\n",
       "      <td>0.000391</td>\n",
       "      <td>0.046376</td>\n",
       "      <td>0.014982</td>\n",
       "      <td>0.000000</td>\n",
       "      <td>0.000000</td>\n",
       "      <td>0.0</td>\n",
       "      <td>0.0</td>\n",
       "      <td>0.0</td>\n",
       "      <td>...</td>\n",
       "      <td>0.0</td>\n",
       "      <td>0.0</td>\n",
       "      <td>0.0</td>\n",
       "      <td>0.0</td>\n",
       "      <td>0.0</td>\n",
       "      <td>0.0</td>\n",
       "      <td>0.0</td>\n",
       "      <td>0.0</td>\n",
       "      <td>0.0</td>\n",
       "      <td>0.0</td>\n",
       "    </tr>\n",
       "    <tr>\n",
       "      <th>1</th>\n",
       "      <td>0.167471</td>\n",
       "      <td>0.261438</td>\n",
       "      <td>0.000012</td>\n",
       "      <td>0.069676</td>\n",
       "      <td>0.009303</td>\n",
       "      <td>0.088852</td>\n",
       "      <td>0.000000</td>\n",
       "      <td>0.0</td>\n",
       "      <td>0.0</td>\n",
       "      <td>0.0</td>\n",
       "      <td>...</td>\n",
       "      <td>0.0</td>\n",
       "      <td>0.0</td>\n",
       "      <td>0.0</td>\n",
       "      <td>0.0</td>\n",
       "      <td>0.0</td>\n",
       "      <td>0.0</td>\n",
       "      <td>0.0</td>\n",
       "      <td>0.0</td>\n",
       "      <td>0.0</td>\n",
       "      <td>0.0</td>\n",
       "    </tr>\n",
       "    <tr>\n",
       "      <th>2</th>\n",
       "      <td>0.001360</td>\n",
       "      <td>0.618337</td>\n",
       "      <td>0.132231</td>\n",
       "      <td>0.015379</td>\n",
       "      <td>0.012980</td>\n",
       "      <td>0.000000</td>\n",
       "      <td>0.111084</td>\n",
       "      <td>0.0</td>\n",
       "      <td>0.0</td>\n",
       "      <td>0.0</td>\n",
       "      <td>...</td>\n",
       "      <td>0.0</td>\n",
       "      <td>0.0</td>\n",
       "      <td>0.0</td>\n",
       "      <td>0.0</td>\n",
       "      <td>0.0</td>\n",
       "      <td>0.0</td>\n",
       "      <td>0.0</td>\n",
       "      <td>0.0</td>\n",
       "      <td>0.0</td>\n",
       "      <td>0.0</td>\n",
       "    </tr>\n",
       "  </tbody>\n",
       "</table>\n",
       "<p>3 rows × 405 columns</p>\n",
       "</div>"
      ],
      "text/plain": [
       "   LocationNormalized  ContractTime   Company  Category  SourceName   ability  \\\n",
       "0            0.124742      0.261438  0.000391  0.046376    0.014982  0.000000   \n",
       "1            0.167471      0.261438  0.000012  0.069676    0.009303  0.088852   \n",
       "2            0.001360      0.618337  0.132231  0.015379    0.012980  0.000000   \n",
       "\n",
       "       able  account  agency  analysis  ...  time  trade  trainee  travel  \\\n",
       "0  0.000000      0.0     0.0       0.0  ...   0.0    0.0      0.0     0.0   \n",
       "1  0.000000      0.0     0.0       0.0  ...   0.0    0.0      0.0     0.0   \n",
       "2  0.111084      0.0     0.0       0.0  ...   0.0    0.0      0.0     0.0   \n",
       "\n",
       "    uk  web  web developer  west  worker  year  \n",
       "0  0.0  0.0            0.0   0.0     0.0   0.0  \n",
       "1  0.0  0.0            0.0   0.0     0.0   0.0  \n",
       "2  0.0  0.0            0.0   0.0     0.0   0.0  \n",
       "\n",
       "[3 rows x 405 columns]"
      ]
     },
     "execution_count": 47,
     "metadata": {},
     "output_type": "execute_result"
    }
   ],
   "source": [
    "X_train.head(3)"
   ]
  },
  {
   "cell_type": "code",
   "execution_count": 48,
   "metadata": {},
   "outputs": [
    {
     "data": {
      "text/plain": [
       "(171337, 405)"
      ]
     },
     "execution_count": 48,
     "metadata": {},
     "output_type": "execute_result"
    }
   ],
   "source": [
    "X_train.shape"
   ]
  },
  {
   "cell_type": "markdown",
   "metadata": {},
   "source": [
    "# Prediction"
   ]
  },
  {
   "cell_type": "code",
   "execution_count": 49,
   "metadata": {},
   "outputs": [],
   "source": [
    "from sklearn.model_selection import cross_validate\n",
    "def cross_validate_results(model, X_train, y_train):\n",
    "    scores = cross_validate(model, X_train, y_train, cv=5, scoring='neg_mean_absolute_error',\n",
    "                            return_train_score=True)\n",
    "    scores = pd.DataFrame(scores)\n",
    "    results = scores.describe().transpose()\n",
    "    return results"
   ]
  },
  {
   "cell_type": "markdown",
   "metadata": {},
   "source": [
    "## Régression linéaire "
   ]
  },
  {
   "cell_type": "code",
   "execution_count": 53,
   "metadata": {},
   "outputs": [
    {
     "data": {
      "text/html": [
       "<div>\n",
       "<style scoped>\n",
       "    .dataframe tbody tr th:only-of-type {\n",
       "        vertical-align: middle;\n",
       "    }\n",
       "\n",
       "    .dataframe tbody tr th {\n",
       "        vertical-align: top;\n",
       "    }\n",
       "\n",
       "    .dataframe thead th {\n",
       "        text-align: right;\n",
       "    }\n",
       "</style>\n",
       "<table border=\"1\" class=\"dataframe\">\n",
       "  <thead>\n",
       "    <tr style=\"text-align: right;\">\n",
       "      <th></th>\n",
       "      <th>count</th>\n",
       "      <th>mean</th>\n",
       "      <th>std</th>\n",
       "      <th>min</th>\n",
       "      <th>25%</th>\n",
       "      <th>50%</th>\n",
       "      <th>75%</th>\n",
       "      <th>max</th>\n",
       "    </tr>\n",
       "  </thead>\n",
       "  <tbody>\n",
       "    <tr>\n",
       "      <th>fit_time</th>\n",
       "      <td>5.0</td>\n",
       "      <td>3.578061</td>\n",
       "      <td>0.564904</td>\n",
       "      <td>2.791120</td>\n",
       "      <td>3.307022</td>\n",
       "      <td>3.654735</td>\n",
       "      <td>3.849206</td>\n",
       "      <td>4.288224</td>\n",
       "    </tr>\n",
       "    <tr>\n",
       "      <th>score_time</th>\n",
       "      <td>5.0</td>\n",
       "      <td>0.022874</td>\n",
       "      <td>0.010929</td>\n",
       "      <td>0.016765</td>\n",
       "      <td>0.017827</td>\n",
       "      <td>0.018207</td>\n",
       "      <td>0.019208</td>\n",
       "      <td>0.042362</td>\n",
       "    </tr>\n",
       "    <tr>\n",
       "      <th>test_score</th>\n",
       "      <td>5.0</td>\n",
       "      <td>-8872.998539</td>\n",
       "      <td>24.859488</td>\n",
       "      <td>-8895.094163</td>\n",
       "      <td>-8893.270572</td>\n",
       "      <td>-8884.350919</td>\n",
       "      <td>-8846.848048</td>\n",
       "      <td>-8845.428991</td>\n",
       "    </tr>\n",
       "    <tr>\n",
       "      <th>train_score</th>\n",
       "      <td>5.0</td>\n",
       "      <td>-8845.031419</td>\n",
       "      <td>11.345587</td>\n",
       "      <td>-8857.807281</td>\n",
       "      <td>-8854.141876</td>\n",
       "      <td>-8845.200507</td>\n",
       "      <td>-8837.568623</td>\n",
       "      <td>-8830.438806</td>\n",
       "    </tr>\n",
       "  </tbody>\n",
       "</table>\n",
       "</div>"
      ],
      "text/plain": [
       "             count         mean        std          min          25%  \\\n",
       "fit_time       5.0     3.578061   0.564904     2.791120     3.307022   \n",
       "score_time     5.0     0.022874   0.010929     0.016765     0.017827   \n",
       "test_score     5.0 -8872.998539  24.859488 -8895.094163 -8893.270572   \n",
       "train_score    5.0 -8845.031419  11.345587 -8857.807281 -8854.141876   \n",
       "\n",
       "                     50%          75%          max  \n",
       "fit_time        3.654735     3.849206     4.288224  \n",
       "score_time      0.018207     0.019208     0.042362  \n",
       "test_score  -8884.350919 -8846.848048 -8845.428991  \n",
       "train_score -8845.200507 -8837.568623 -8830.438806  "
      ]
     },
     "execution_count": 53,
     "metadata": {},
     "output_type": "execute_result"
    }
   ],
   "source": [
    "from sklearn.linear_model import LinearRegression\n",
    "cross_validate_results(LinearRegression(), X_train, y_train)"
   ]
  },
  {
   "cell_type": "markdown",
   "metadata": {},
   "source": [
    "## Random Forest Regressor"
   ]
  },
  {
   "cell_type": "code",
   "execution_count": 75,
   "metadata": {},
   "outputs": [
    {
     "data": {
      "text/html": [
       "<div>\n",
       "<style scoped>\n",
       "    .dataframe tbody tr th:only-of-type {\n",
       "        vertical-align: middle;\n",
       "    }\n",
       "\n",
       "    .dataframe tbody tr th {\n",
       "        vertical-align: top;\n",
       "    }\n",
       "\n",
       "    .dataframe thead th {\n",
       "        text-align: right;\n",
       "    }\n",
       "</style>\n",
       "<table border=\"1\" class=\"dataframe\">\n",
       "  <thead>\n",
       "    <tr style=\"text-align: right;\">\n",
       "      <th></th>\n",
       "      <th>count</th>\n",
       "      <th>mean</th>\n",
       "      <th>std</th>\n",
       "      <th>min</th>\n",
       "      <th>25%</th>\n",
       "      <th>50%</th>\n",
       "      <th>75%</th>\n",
       "      <th>max</th>\n",
       "    </tr>\n",
       "  </thead>\n",
       "  <tbody>\n",
       "    <tr>\n",
       "      <th>fit_time</th>\n",
       "      <td>5.0</td>\n",
       "      <td>1994.555574</td>\n",
       "      <td>119.846744</td>\n",
       "      <td>1933.445532</td>\n",
       "      <td>1933.597757</td>\n",
       "      <td>1948.103483</td>\n",
       "      <td>1949.113214</td>\n",
       "      <td>2208.517886</td>\n",
       "    </tr>\n",
       "    <tr>\n",
       "      <th>score_time</th>\n",
       "      <td>5.0</td>\n",
       "      <td>1.838732</td>\n",
       "      <td>0.017248</td>\n",
       "      <td>1.824986</td>\n",
       "      <td>1.825033</td>\n",
       "      <td>1.828532</td>\n",
       "      <td>1.856956</td>\n",
       "      <td>1.858155</td>\n",
       "    </tr>\n",
       "    <tr>\n",
       "      <th>test_score</th>\n",
       "      <td>5.0</td>\n",
       "      <td>-7105.024363</td>\n",
       "      <td>57.306352</td>\n",
       "      <td>-7163.368189</td>\n",
       "      <td>-7137.828023</td>\n",
       "      <td>-7130.304608</td>\n",
       "      <td>-7071.702169</td>\n",
       "      <td>-7021.918825</td>\n",
       "    </tr>\n",
       "    <tr>\n",
       "      <th>train_score</th>\n",
       "      <td>5.0</td>\n",
       "      <td>-2651.314893</td>\n",
       "      <td>3.389661</td>\n",
       "      <td>-2655.924837</td>\n",
       "      <td>-2652.497258</td>\n",
       "      <td>-2652.048787</td>\n",
       "      <td>-2648.910676</td>\n",
       "      <td>-2647.192905</td>\n",
       "    </tr>\n",
       "  </tbody>\n",
       "</table>\n",
       "</div>"
      ],
      "text/plain": [
       "             count         mean         std          min          25%  \\\n",
       "fit_time       5.0  1994.555574  119.846744  1933.445532  1933.597757   \n",
       "score_time     5.0     1.838732    0.017248     1.824986     1.825033   \n",
       "test_score     5.0 -7105.024363   57.306352 -7163.368189 -7137.828023   \n",
       "train_score    5.0 -2651.314893    3.389661 -2655.924837 -2652.497258   \n",
       "\n",
       "                     50%          75%          max  \n",
       "fit_time     1948.103483  1949.113214  2208.517886  \n",
       "score_time      1.828532     1.856956     1.858155  \n",
       "test_score  -7130.304608 -7071.702169 -7021.918825  \n",
       "train_score -2652.048787 -2648.910676 -2647.192905  "
      ]
     },
     "execution_count": 75,
     "metadata": {},
     "output_type": "execute_result"
    }
   ],
   "source": [
    "from sklearn.ensemble import RandomForestRegressor\n",
    "cross_validate_results(RandomForestRegressor(random_state=123), X_train, y_train)"
   ]
  },
  {
   "cell_type": "markdown",
   "metadata": {},
   "source": [
    "Bien que le temps d'exécution de la régression linéaire soit bien plus rapide que celui du modèle purement non paramétrique `RandomForestRegressor()`, je décide de travailler avec ce dernier car il donne de bien meilleurs résultats (MAE à 7105 en moyenne sur le test).      "
   ]
  },
  {
   "cell_type": "code",
   "execution_count": 78,
   "metadata": {},
   "outputs": [
    {
     "data": {
      "text/plain": [
       "RandomForestRegressor(bootstrap=True, ccp_alpha=0.0, criterion='mse',\n",
       "                      max_depth=None, max_features='auto', max_leaf_nodes=None,\n",
       "                      max_samples=None, min_impurity_decrease=0.0,\n",
       "                      min_impurity_split=None, min_samples_leaf=1,\n",
       "                      min_samples_split=2, min_weight_fraction_leaf=0.0,\n",
       "                      n_estimators=100, n_jobs=None, oob_score=False,\n",
       "                      random_state=123, verbose=0, warm_start=False)"
      ]
     },
     "execution_count": 78,
     "metadata": {},
     "output_type": "execute_result"
    }
   ],
   "source": [
    "forest_reg = RandomForestRegressor(random_state=123)\n",
    "forest_reg.fit(X_train, y_train)"
   ]
  },
  {
   "cell_type": "code",
   "execution_count": 107,
   "metadata": {},
   "outputs": [
    {
     "data": {
      "image/png": "[encoded data removed]",
      "text/plain": [
       "<Figure size 864x432 with 1 Axes>"
      ]
     },
     "metadata": {
      "needs_background": "light"
     },
     "output_type": "display_data"
    }
   ],
   "source": [
    "importances = forest_reg.feature_importances_\n",
    "attributes = list(X_train)\n",
    "a = sorted(zip(importances, attributes), reverse=True)[:10]\n",
    "q = pd.DataFrame(a, columns = [\"importances\",\"variables\"])\n",
    "fig, ax = plt.subplots(figsize = (12,6)) \n",
    "sns.barplot(y=\"importances\", x=\"variables\", data=q, palette=\"Blues_d\")\n",
    "plt.xticks(rotation = 45,fontsize = 13)\n",
    "plt.title(\"Importance relative des variables\\n(Random Forest)\", fontsize=26)\n",
    "plt.xlabel('Variables',fontsize=20)\n",
    "plt.ylabel(\"Importance\",fontsize=20)\n",
    "plt.show()"
   ]
  },
  {
   "cell_type": "code",
   "execution_count": 79,
   "metadata": {},
   "outputs": [],
   "source": [
    "y_pred = forest_reg.predict(X_test)"
   ]
  },
  {
   "cell_type": "code",
   "execution_count": 106,
   "metadata": {},
   "outputs": [
    {
     "data": {
      "image/png": "[encoded data removed]",
      "text/plain": [
       "<Figure size 864x432 with 1 Axes>"
      ]
     },
     "metadata": {
      "needs_background": "light"
     },
     "output_type": "display_data"
    }
   ],
   "source": [
    "plt.figure(figsize=(12,6))\n",
    "plt.scatter(x=y_pred, y=y_test, alpha=0.2)\n",
    "plt.plot([0,100_000],[0,100_000], 'r--')\n",
    "plt.xlim([0,120_100]) ; plt.ylim([0,120_000])\n",
    "plt.title(\"Résultats sur les données de test\", fontsize=20)\n",
    "plt.xlabel(\"Prédictions\",fontsize=18) ; plt.ylabel(\"Valeurs réelles\", fontsize=18)\n",
    "plt.show()"
   ]
  },
  {
   "cell_type": "code",
   "execution_count": 97,
   "metadata": {},
   "outputs": [
    {
     "name": "stdout",
     "output_type": "stream",
     "text": [
      "Mean absolute error on test set: 6911.786662023594\n"
     ]
    }
   ],
   "source": [
    "from sklearn.metrics import mean_absolute_error\n",
    "print(\"Mean absolute error on test set: {}\".format(mean_absolute_error(y_pred, y_test)))"
   ]
  }
 ],
 "metadata": {
  "kernelspec": {
   "display_name": "Python 3",
   "language": "python",
   "name": "python3"
  },
  "language_info": {
   "codemirror_mode": {
    "name": "ipython",
    "version": 3
   },
   "file_extension": ".py",
   "mimetype": "text/x-python",
   "name": "python",
   "nbconvert_exporter": "python",
   "pygments_lexer": "ipython3",
   "version": "3.7.4"
  }
 },
 "nbformat": 4,
 "nbformat_minor": 2
}
